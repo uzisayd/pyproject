{
 "cells": [
  {
   "cell_type": "code",
   "execution_count": 2,
   "id": "2fd89652-9478-4567-9989-3cbcf7f290e0",
   "metadata": {},
   "outputs": [
    {
     "name": "stdout",
     "output_type": "stream",
     "text": [
      "\n",
      "------------------------------------------------------\n",
      "\n",
      "Validating customer details\n"
     ]
    },
    {
     "name": "stdin",
     "output_type": "stream",
     "text": [
      "Enter name:  Aftab\n",
      "Enter date of birth (DD-MM-YYYY):  24-10-2000\n",
      "Enter mobile number:  9123456789\n",
      "Enter email:  a_ft123ab@hotmail.com\n",
      "Enter customer ID:  12345\n",
      "Enter address:  belva kjahsd\n",
      "Enter gender (male/female/other):  male\n"
     ]
    },
    {
     "name": "stdout",
     "output_type": "stream",
     "text": [
      "Customer details are valid!\n",
      "\n",
      "------------------------------------------------------\n",
      "\n",
      "Validating service details\n"
     ]
    },
    {
     "name": "stdin",
     "output_type": "stream",
     "text": [
      "Re-enter customer ID:  12345\n",
      "Enter number of people (Maximum 12):  10\n"
     ]
    },
    {
     "name": "stdout",
     "output_type": "stream",
     "text": [
      "Service details are valid!\n",
      "\n",
      "------------------------------------------------------\n"
     ]
    }
   ],
   "source": [
    "import re\n",
    "from datetime import datetime\n",
    "\n",
    "# Lambda functions for validation\n",
    "validate_name = lambda name: re.match(\"^[A-z]*[a-z]$\", name)\n",
    "validate_dob = lambda dob: re.match(\"^[0-9]{2}-[0-9]{2}-[0-9]{4}$\", dob) and datetime.strptime(dob, \"%d-%m-%Y\") < datetime.now()\n",
    "validate_mobile = lambda mobile: re.match(\"^[6-9][0-9]{9}$\", mobile)\n",
    "validate_email = lambda email: re.match(\"^[a-z][a-zA-Z0-9._]*@[a-z]*.com$\", email)\n",
    "validate_customer_id = lambda customer_id: re.match(\"^[1-9][0-9]{4}$\", customer_id)\n",
    "validate_address = lambda address: len(address.strip()) > 0\n",
    "validate_gender = lambda gender: gender in [\"male\", \"female\", \"other\"]\n",
    "validate_number_of_people = lambda number: re.match(\"^[1-9][0-2]$\", number)\n",
    "\n",
    "print(\"\\n------------------------------------------------------\")\n",
    "print(\"\\nValidating customer details\")\n",
    "\n",
    "customer_valid = True\n",
    "\n",
    "if not validate_name(input(\"Enter name: \")):\n",
    "    print(\"invalid name.\")\n",
    "    customer_valid = False\n",
    "if not validate_dob(input(\"Enter date of birth (DD-MM-YYYY): \")):\n",
    "    print(\"Invalid date of brth.\")\n",
    "    customer_valid = False\n",
    "if not validate_mobile(input(\"Enter mobile number: \")):\n",
    "    print(\"invalid mobile number. must be exactly 10 digits and start with 6-9.\")\n",
    "    customer_valid = False\n",
    "if not validate_email(input(\"Enter email: \")):\n",
    "    print(\"Invalid email address.\")\n",
    "    customer_valid = False\n",
    "if not validate_customer_id(input(\"Enter customer ID: \")):\n",
    "    print(\"invalid customer ID. it should be a 5-digit number starting with 1-9.\")\n",
    "    customer_valid = False\n",
    "if not validate_address(input(\"Enter address: \")):\n",
    "    print(\"address cannot be empty.\")\n",
    "    customer_valid = False\n",
    "if not validate_gender(input(\"Enter gender (male/female/other): \")):\n",
    "    print(\"Invalid gender. Must be 'male', 'female', or 'other'.\")\n",
    "    customer_valid = False\n",
    "\n",
    "if customer_valid:\n",
    "    print(\"Customer details are valid!\")\n",
    "else:\n",
    "    print(\"Customer details are invalid!\")\n",
    "\n",
    "print(\"\\n------------------------------------------------------\")\n",
    "print(\"\\nValidating service details\")\n",
    "\n",
    "service_valid = True\n",
    "\n",
    "if not validate_customer_id(input(\"Re-enter customer ID: \")):\n",
    "    print(\"Invalid customer ID.\")\n",
    "    service_valid = False\n",
    "if not validate_number_of_people(input(\"Enter number of people (Maximum 12): \")):\n",
    "    print(\"Invalid number of people.\")\n",
    "    service_valid = False\n",
    "\n",
    "if service_valid:\n",
    "    print(\"Service details are valid!\")\n",
    "else:\n",
    "    print(\"Service details are invalid!\")\n",
    "\n",
    "print(\"\\n------------------------------------------------------\")\n"
   ]
  }
 ],
 "metadata": {
  "kernelspec": {
   "display_name": "Python [conda env:base] *",
   "language": "python",
   "name": "conda-base-py"
  },
  "language_info": {
   "codemirror_mode": {
    "name": "ipython",
    "version": 3
   },
   "file_extension": ".py",
   "mimetype": "text/x-python",
   "name": "python",
   "nbconvert_exporter": "python",
   "pygments_lexer": "ipython3",
   "version": "3.12.7"
  }
 },
 "nbformat": 4,
 "nbformat_minor": 5
}
