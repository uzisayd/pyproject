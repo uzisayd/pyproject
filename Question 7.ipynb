{
 "cells": [
  {
   "cell_type": "code",
   "execution_count": 2,
   "id": "7c4323a3-07c7-47c5-a40b-296788d64eee",
   "metadata": {},
   "outputs": [
    {
     "name": "stderr",
     "output_type": "stream",
     "text": [
      "<>:39: SyntaxWarning: invalid escape sequence '\\.'\n",
      "<>:39: SyntaxWarning: invalid escape sequence '\\.'\n",
      "C:\\Users\\Aftab\\AppData\\Local\\Temp\\ipykernel_19088\\2593267993.py:39: SyntaxWarning: invalid escape sequence '\\.'\n",
      "  validate(\"^[a-z][a-zA-Z0-9._]*@[a-z]+\\.com$\", self.email, \"Invalid email.\")\n",
      "INFO:root:--- Validating customer details ---\n"
     ]
    },
    {
     "name": "stdin",
     "output_type": "stream",
     "text": [
      "Enter name:  aftab\n",
      "Enter date of birth (DD-MM-YYYY):  24-10-2000\n",
      "Enter mobile number:  9123456789\n",
      "Enter email:  a_ft123.ab\n",
      "Enter customer ID:  12345\n",
      "Enter address:  sdasd\n",
      "Enter gender (male/female/other):  male\n"
     ]
    },
    {
     "name": "stderr",
     "output_type": "stream",
     "text": [
      "ERROR:root:Invalid email.\n",
      "ERROR:root:Invalid email.\n",
      "INFO:root:Customer details are invalid!\n",
      "INFO:root:--- Validating service details ---\n"
     ]
    },
    {
     "name": "stdin",
     "output_type": "stream",
     "text": [
      "Enter customer ID:  1234\n",
      "Enter number of people (Maximum 12):  111\n"
     ]
    },
    {
     "name": "stderr",
     "output_type": "stream",
     "text": [
      "ERROR:root:Invalid customer ID.\n",
      "ERROR:root:Invalid customer ID.\n",
      "INFO:root:Service details are invalid!\n"
     ]
    }
   ],
   "source": [
    "import re\n",
    "import logging\n",
    "from datetime import datetime\n",
    "\n",
    "logging.basicConfig(level=logging.INFO)\n",
    "\n",
    "def validate(pattern, value, error_message):\n",
    "    if re.match(pattern, value):\n",
    "        return True\n",
    "    logging.error(error_message)\n",
    "    raise Exception(error_message)\n",
    "\n",
    "def validate_dob(dob):\n",
    "    try:\n",
    "        dob_date = datetime.strptime(dob, \"%d-%m-%Y\")\n",
    "        if dob_date < datetime.now():\n",
    "            return True\n",
    "        logging.error(\"Date of birth cannot be in the future.\")\n",
    "        raise Exception(\"Date of birth cannot be in the future.\")\n",
    "    except ValueError:\n",
    "        logging.error(\"Invalid date format.\")\n",
    "        raise Exception(\"Invalid date format.\")\n",
    "\n",
    "class Customer:\n",
    "    def __init__(self, name, dob, mobile, email, customer_id, address, gender):\n",
    "        self.name = name\n",
    "        self.dob = dob\n",
    "        self.mobile = mobile\n",
    "        self.email = email\n",
    "        self.customer_id = customer_id\n",
    "        self.address = address\n",
    "        self.gender = gender\n",
    "\n",
    "    def validate(self):\n",
    "        try:\n",
    "            validate(\"^[A-Za-z]+$\", self.name, \"Invalid name.\")\n",
    "            validate_dob(self.dob)\n",
    "            validate(\"^[6-9][0-9]{9}$\", self.mobile, \"Invalid mobile number.\")\n",
    "            validate(\"^[a-z][a-zA-Z0-9._]*@[a-z]+\\.com$\", self.email, \"Invalid email.\")\n",
    "            validate(\"^[1-9][0-9]{4}$\", self.customer_id, \"Invalid customer ID.\")\n",
    "            validate(r\".+\", self.address, \"Address cannot be empty.\")\n",
    "            if self.gender.lower() not in [\"male\", \"female\", \"other\"]:\n",
    "                raise Exception(\"Invalid gender. Must be 'male', 'female', or 'other'.\")\n",
    "            return True\n",
    "        except Exception as e:\n",
    "            logging.error(e)\n",
    "            return False\n",
    "\n",
    "class Service:\n",
    "    def __init__(self, customer_id, number_of_people):\n",
    "        self.customer_id = customer_id\n",
    "        self.number_of_people = number_of_people\n",
    "\n",
    "    def validate(self):\n",
    "        try:\n",
    "            validate(\"^[1-9][0-9]{4}$\", self.customer_id, \"Invalid customer ID.\")\n",
    "            validate(\"^(1[0-2]|[1-9])$\", self.number_of_people, \"Invalid number of people.\")\n",
    "            return True\n",
    "        except Exception as e:\n",
    "            logging.error(e)\n",
    "            return False\n",
    "\n",
    "if __name__ == \"__main__\":\n",
    "    logging.info(\"--- Validating customer details ---\")\n",
    "    customer = Customer(\n",
    "        name=input(\"Enter name: \"),\n",
    "        dob=input(\"Enter date of birth (DD-MM-YYYY): \"),\n",
    "        mobile=input(\"Enter mobile number: \"),\n",
    "        email=input(\"Enter email: \"),\n",
    "        customer_id=input(\"Enter customer ID: \"),\n",
    "        address=input(\"Enter address: \"),\n",
    "        gender=input(\"Enter gender (male/female/other): \")\n",
    "    )\n",
    "    logging.info(\"Customer details are valid!\" if customer.validate() else \"Customer details are invalid!\")\n",
    "\n",
    "    logging.info(\"--- Validating service details ---\")\n",
    "    service = Service(\n",
    "        customer_id=input(\"Enter customer ID: \"),\n",
    "        number_of_people=input(\"Enter number of people (Maximum 12): \")\n",
    "    )\n",
    "    logging.info(\"Service details are valid!\" if service.validate() else \"Service details are invalid!\")\n"
   ]
  },
  {
   "cell_type": "code",
   "execution_count": null,
   "id": "d7377bc1-1bc2-471d-8921-050dfeb4133c",
   "metadata": {},
   "outputs": [],
   "source": []
  }
 ],
 "metadata": {
  "kernelspec": {
   "display_name": "Python [conda env:base] *",
   "language": "python",
   "name": "conda-base-py"
  },
  "language_info": {
   "codemirror_mode": {
    "name": "ipython",
    "version": 3
   },
   "file_extension": ".py",
   "mimetype": "text/x-python",
   "name": "python",
   "nbconvert_exporter": "python",
   "pygments_lexer": "ipython3",
   "version": "3.12.7"
  }
 },
 "nbformat": 4,
 "nbformat_minor": 5
}
